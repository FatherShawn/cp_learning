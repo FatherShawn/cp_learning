{
 "cells": [
  {
   "cell_type": "code",
   "execution_count": 1,
   "metadata": {},
   "outputs": [],
   "source": [
    "import torch\n"
   ]
  },
  {
   "cell_type": "code",
   "execution_count": 2,
   "metadata": {},
   "outputs": [
    {
     "name": "stderr",
     "output_type": "stream",
     "text": [
      "Using cache found in /home/shawn/.cache/torch/hub/pytorch_fairseq_master\n"
     ]
    }
   ],
   "source": [
    "xlmr = torch.hub.load('pytorch/fairseq', 'xlmr.large')\n",
    "xlmr.eval()\n",
    "\n",
    "tokens = xlmr.encode(\"您好，该域名未备案，已被封停，请联系机房核实！！！！\")\n"
   ]
  },
  {
   "cell_type": "markdown",
   "metadata": {},
   "source": [
    "[XLM-R](https://github.com/facebookresearch/XLM/#xlm-r-new-model) handles the following 100 languages: Afrikaans, Albanian, Amharic, Arabic, Armenian, Assamese, Azerbaijani, Basque, Belarusian, Bengali, Bengali Romanized, Bosnian, Breton, Bulgarian, Burmese, Burmese, Catalan, Chinese (Simplified), Chinese (Traditional), Croatian, Czech, Danish, Dutch, English, Esperanto, Estonian, Filipino, Finnish, French, Galician, Georgian, German, Greek, Gujarati, Hausa, Hebrew, Hindi, Hindi Romanized, Hungarian, Icelandic, Indonesian, Irish, Italian, Japanese, Javanese, Kannada, Kazakh, Khmer, Korean, Kurdish (Kurmanji), Kyrgyz, Lao, Latin, Latvian, Lithuanian, Macedonian, Malagasy, Malay, Malayalam, Marathi, Mongolian, Nepali, Norwegian, Oriya, Oromo, Pashto, Persian, Polish, Portuguese, Punjabi, Romanian, Russian, Sanskri, Scottish, Gaelic, Serbian, Sindhi, Sinhala, Slovak, Slovenian, Somali, Spanish, Sundanese, Swahili, Swedish, Tamil, Tamil Romanized, Telugu, Telugu Romanized, Thai, Turkish, Ukrainian, Urdu, Urdu Romanized, Uyghur, Uzbek, Vietnamese, Welsh, Western, Frisian, Xhosa, Yiddish."
   ]
  },
  {
   "cell_type": "code",
   "execution_count": 3,
   "metadata": {},
   "outputs": [
    {
     "name": "stdout",
     "output_type": "stream",
     "text": [
      "torch.Size([20])\n"
     ]
    }
   ],
   "source": [
    "print(tokens.size())"
   ]
  },
  {
   "cell_type": "code",
   "execution_count": 5,
   "metadata": {},
   "outputs": [
    {
     "data": {
      "text/plain": [
       "torch.int64"
      ]
     },
     "execution_count": 5,
     "metadata": {},
     "output_type": "execute_result"
    }
   ],
   "source": [
    "tokens.dtype"
   ]
  },
  {
   "cell_type": "code",
   "execution_count": 6,
   "metadata": {},
   "outputs": [
    {
     "data": {
      "text/plain": [
       "torch.strided"
      ]
     },
     "execution_count": 6,
     "metadata": {},
     "output_type": "execute_result"
    }
   ],
   "source": [
    "tokens.layout"
   ]
  },
  {
   "cell_type": "code",
   "execution_count": 7,
   "metadata": {},
   "outputs": [
    {
     "name": "stdout",
     "output_type": "stream",
     "text": [
      "tensor([     0,  73014,   1322,      4,   4941, 173221,   6335, 184240,      4,\n",
      "        134908,  22191,  17742,      4,   9736,  21446,   5312,   6899, 224127,\n",
      "         11305,      2])\n"
     ]
    }
   ],
   "source": [
    "print(tokens)"
   ]
  },
  {
   "cell_type": "code",
   "execution_count": 8,
   "metadata": {},
   "outputs": [
    {
     "name": "stdout",
     "output_type": "stream",
     "text": [
      "tensor(0)\n",
      "tensor(73014)\n",
      "tensor(1322)\n",
      "tensor(4)\n",
      "tensor(4941)\n",
      "tensor(173221)\n",
      "tensor(6335)\n",
      "tensor(184240)\n",
      "tensor(4)\n",
      "tensor(134908)\n",
      "tensor(22191)\n",
      "tensor(17742)\n",
      "tensor(4)\n",
      "tensor(9736)\n",
      "tensor(21446)\n",
      "tensor(5312)\n",
      "tensor(6899)\n",
      "tensor(224127)\n",
      "tensor(11305)\n",
      "tensor(2)\n"
     ]
    }
   ],
   "source": [
    "for token in tokens:\n",
    "    print(token)"
   ]
  },
  {
   "cell_type": "code",
   "execution_count": 17,
   "metadata": {},
   "outputs": [
    {
     "data": {
      "text/plain": [
       "'október 2015 lagði Sýslumaðurinn í Reykjavík að ósk STEF lögbann við að Hringiðan veiti viðskiptavinum sínum aðgang að þessu vefsvæði.'"
      ]
     },
     "execution_count": 17,
     "metadata": {},
     "output_type": "execute_result"
    }
   ],
   "source": [
    "xlmr.decode(tokens)"
   ]
  },
  {
   "cell_type": "code",
   "execution_count": 8,
   "metadata": {},
   "outputs": [],
   "source": [
    "tokens = xlmr.encode(\"október 2015 lagði Sýslumaðurinn í Reykjavík að ósk STEF lögbann við að Hringiðan veiti viðskiptavinum sínum aðgang að þessu vefsvæði.\")"
   ]
  },
  {
   "cell_type": "code",
   "execution_count": 9,
   "metadata": {},
   "outputs": [
    {
     "name": "stdout",
     "output_type": "stream",
     "text": [
      "torch.Size([36])\n"
     ]
    }
   ],
   "source": [
    "print(tokens.size())"
   ]
  },
  {
   "cell_type": "code",
   "execution_count": 10,
   "metadata": {},
   "outputs": [
    {
     "name": "stdout",
     "output_type": "stream",
     "text": [
      "tensor([     0,  34821,    918, 219459,    159,   1673,  10791, 158375,    439,\n",
      "         48627,    389,   2456,   1042,  16992,  28482,  37568,    761,     19,\n",
      "          1497,    389,    572,   2852,   2250,     66,    173,   1890,  85591,\n",
      "          2082,    316,  50113, 138202,    389,  31185, 220401,      5,      2])\n"
     ]
    }
   ],
   "source": [
    "print(tokens)"
   ]
  },
  {
   "cell_type": "markdown",
   "metadata": {},
   "source": [
    "Which is interesting, as I count 20 words and 1 punctuation mark(period).  Let's export to a numpy array and bring it back in to be sure we just have these tokens and decode."
   ]
  },
  {
   "cell_type": "code",
   "execution_count": 12,
   "metadata": {},
   "outputs": [
    {
     "name": "stdout",
     "output_type": "stream",
     "text": [
      "[     0  34821    918 219459    159   1673  10791 158375    439  48627\n",
      "    389   2456   1042  16992  28482  37568    761     19   1497    389\n",
      "    572   2852   2250     66    173   1890  85591   2082    316  50113\n",
      " 138202    389  31185 220401      5      2]\n"
     ]
    }
   ],
   "source": [
    "exported = tokens.numpy()\n",
    "print(exported)"
   ]
  },
  {
   "cell_type": "code",
   "execution_count": 15,
   "metadata": {},
   "outputs": [
    {
     "name": "stdout",
     "output_type": "stream",
     "text": [
      "(36,)\n"
     ]
    }
   ],
   "source": [
    "print(exported.shape)"
   ]
  },
  {
   "cell_type": "code",
   "execution_count": 18,
   "metadata": {},
   "outputs": [
    {
     "data": {
      "text/plain": [
       "'október 2015 lagði Sýslumaðurinn í Reykjavík að ósk STEF lögbann við að Hringiðan veiti viðskiptavinum sínum aðgang að þessu vefsvæði.'"
      ]
     },
     "execution_count": 18,
     "metadata": {},
     "output_type": "execute_result"
    }
   ],
   "source": [
    "imported_tokens = torch.from_numpy(exported)\n",
    "xlmr.decode(imported_tokens)"
   ]
  }
 ],
 "metadata": {
  "kernelspec": {
   "display_name": "Python 3",
   "language": "python",
   "name": "python3"
  },
  "language_info": {
   "codemirror_mode": {
    "name": "ipython",
    "version": 3
   },
   "file_extension": ".py",
   "mimetype": "text/x-python",
   "name": "python",
   "nbconvert_exporter": "python",
   "pygments_lexer": "ipython3",
   "version": "3.9.1"
  }
 },
 "nbformat": 4,
 "nbformat_minor": 1
}